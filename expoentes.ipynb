{
 "cells": [
  {
   "cell_type": "markdown",
   "metadata": {},
   "source": [
    "# Expoentes Positivos e Negativos\n",
    "Os expoentes são usados para indicar o número de vezes que um número (a base) é multiplicado por si mesmo. Um expoente positivo indica multiplicação repetida, enquanto um expoente negativo indica divisão repetida ou, mais precisamente, o inverso da base elevada ao expoente positivo correspondente.\n",
    "\n",
    "Por exemplo:\n",
    "\n",
    "- \\(a^3 = a \\times a \\times a\\)\n",
    "- \\(a^{-3} = \\frac{1}{a^3} = \\frac{1}{a \\times a \\times a}\\)"
   ]
  },
  {
   "cell_type": "code",
   "execution_count": 1,
   "metadata": {},
   "outputs": [
    {
     "name": "stdout",
     "output_type": "stream",
     "text": [
      "8\n"
     ]
    }
   ],
   "source": [
    "# Expoente Positivo\n",
    "\n",
    "# Simplifique a expressão 2³\n",
    "\n",
    "# 2³ = 2x2x2 = 8\n",
    "\n",
    "print(2**3)"
   ]
  },
  {
   "cell_type": "code",
   "execution_count": 2,
   "metadata": {},
   "outputs": [
    {
     "name": "stdout",
     "output_type": "stream",
     "text": [
      "0.04\n"
     ]
    }
   ],
   "source": [
    "# Expoente Negativo\n",
    "\n",
    "# Simplifique a expressão 5 -²\n",
    "\n",
    "print(5**-2)"
   ]
  },
  {
   "cell_type": "markdown",
   "metadata": {},
   "source": [
    "### Problema 3: Uso Combinado de Expoentes\n",
    "\n",
    "**Enunciado:**  \n",
    "Simplifique a expressão \\(3^2 \\times 3^{-1}\\).\n",
    "\n",
    "**Resolução à mão:**  \n",
    "Usando a propriedade \\(a^m \\times a^n = a^{m+n}\\):  \n",
    "\\[3^2 \\times 3^{-1} = 3^{2-1} = 3^1 = 3\\]\n",
    "\n",
    "**Resolução em Python:**\n",
    "```python\n",
    "result = (3**2) * (3**-1)\n",
    "print(result)  # Output: 3.0"
   ]
  }
 ],
 "metadata": {
  "kernelspec": {
   "display_name": "Python 3",
   "language": "python",
   "name": "python3"
  },
  "language_info": {
   "codemirror_mode": {
    "name": "ipython",
    "version": 3
   },
   "file_extension": ".py",
   "mimetype": "text/x-python",
   "name": "python",
   "nbconvert_exporter": "python",
   "pygments_lexer": "ipython3",
   "version": "3.10.12"
  }
 },
 "nbformat": 4,
 "nbformat_minor": 2
}
