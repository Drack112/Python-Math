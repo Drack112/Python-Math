{
 "cells": [
  {
   "cell_type": "markdown",
   "metadata": {},
   "source": [
    "# Equação\n",
    "\n",
    "\"Uma equação é uma sentença matemática que possui uma igualdade e, pelo menos, uma incógnita, ou seja, quando temos o envolvimento de uma expressão algébrica e uma igualdade. O estudo de equações pede conhecimentos prévios, como o estudo sobre expressões numéricas. O objetivo de uma equação é encontrar o valor da incógnita que torne a igualdade em uma identidade, ou seja, uma igualdade verdadeira.\"\n",
    "\n",
    "## Conceitos básicos para o estudo de equação\n",
    "\n",
    "Uma equação é uma sentença matemática que possui uma incógnita, pelo menos, e uma igualdade, e podemos classificá-la quanto a seu número de incógnitas. Veja alguns exemplos:\n",
    "\n",
    "a) 5t – 9 = 16\n",
    "\n",
    "A equação possui uma incógnita, representada pela letra t.\n",
    "\n",
    "b) 5x + 6y = 1\n",
    "\n",
    "A equação possui duas incógnitas, representadas pelas letras x e y.\n",
    "\n",
    "c) t4 – 8z = x\n",
    "\n",
    "A equação possui três incógnitas, representadas pelas letras t, z e x.\n",
    "\n",
    "Qual seja a equação, devemos levar em consideração o seu conjunto universo, composto por todos os possíveis valores que podemos atribuir à incógnita, esse conjunto é representado pela letra U.\n",
    "\n",
    "## Exemplo\n",
    "\n",
    "\"Considere a equação com uma incógnita 5x – 9 = 16, verifique que x = 5 é solução ou raiz da equação.\n",
    "\n",
    "Para que seja possível afirmar que x = 5 é a solução da equação, devemos substituir esse valor na expressão, caso encontremos uma igualdade verdadeira, o número será a solução testada.\n",
    "\n",
    "5x – 9 = 16\n",
    "\n",
    "5(5) – 9 = 16\n",
    "\n",
    "25 – 9 = 16\n",
    "\n",
    "16 = 16\n",
    "\n",
    "Veja que a igualdade encontrada é verdadeira, logo, temos uma identidade e o número 5 é solução. Assim podemos dizer que o conjunto solução é dado por:\n",
    "\n",
    "S = {5}\"\n"
   ]
  },
  {
   "cell_type": "code",
   "execution_count": 33,
   "metadata": {},
   "outputs": [
    {
     "name": "stdout",
     "output_type": "stream",
     "text": [
      "Equação:\n"
     ]
    },
    {
     "data": {
      "text/latex": [
       "$\\displaystyle 2 x + 5 = 11$"
      ],
      "text/plain": [
       "Eq(2*x + 5, 11)"
      ]
     },
     "metadata": {},
     "output_type": "display_data"
    },
    {
     "name": "stdout",
     "output_type": "stream",
     "text": [
      "O número é 3.\n"
     ]
    }
   ],
   "source": [
    "# Problema 1: Equação de Primeiro Grau\n",
    "\n",
    "# Se o dobro de um número adicionado a 5 resulta em 11, qual é esse número?\n",
    "\n",
    "from sympy import symbols, Eq, solve\n",
    "\n",
    "x = symbols('x')\n",
    "equation = Eq(2*x + 5, 11)\n",
    "print(\"Equação:\")\n",
    "display(equation)\n",
    "\n",
    "'''\n",
    "2x +5 = 11\n",
    "\n",
    "2x = 6\n",
    "x = 6/2\n",
    "x = 3\n",
    "'''\n",
    "\n",
    "solution = solve(equation)[0]\n",
    "print(f\"O número é {solution}.\")"
   ]
  },
  {
   "cell_type": "code",
   "execution_count": 34,
   "metadata": {},
   "outputs": [
    {
     "data": {
      "text/latex": [
       "$\\displaystyle 70$"
      ],
      "text/plain": [
       "70"
      ]
     },
     "metadata": {},
     "output_type": "display_data"
    },
    {
     "name": "stdout",
     "output_type": "stream",
     "text": [
      "O total a pagar é $70\n"
     ]
    }
   ],
   "source": [
    "# Uma loja vende camisetas por $20 cada. Se você comprar 5 camisetas e receber um desconto de $30, quanto você pagará no total?\n",
    "\n",
    "'''\n",
    "20x - 30 = y\n",
    "\n",
    "y = 20(5) - 30\n",
    "y = 70\n",
    "'''\n",
    "\n",
    "from sympy import Eq\n",
    "\n",
    "x = 5\n",
    "y = 20*5 - 30\n",
    "display(sympy.factor(y))\n",
    "print(f'O total a pagar é ${y}')"
   ]
  },
  {
   "cell_type": "code",
   "execution_count": 35,
   "metadata": {},
   "outputs": [
    {
     "data": {
      "text/latex": [
       "$\\displaystyle - 5 t^{2} + 20 t = 0$"
      ],
      "text/plain": [
       "Eq(-5*t**2 + 20*t, 0)"
      ]
     },
     "metadata": {},
     "output_type": "display_data"
    },
    {
     "name": "stdout",
     "output_type": "stream",
     "text": [
      "A bola atinge sua altura máxima em 2 segundos.\n"
     ]
    }
   ],
   "source": [
    "# Uma bola é lançada verticalmente para cima e sua altura h em metros, em relação ao tempo t em segundos, é dada por h(t) = -5t² + 20t. Em que instante a bola atinge sua altura máxima?\n",
    "\n",
    "from sympy import symbols, Eq, solve\n",
    "\n",
    "t = symbols('t')\n",
    "h = -5*t**2 + 20*t\n",
    "\n",
    "# Mostrando a equação\n",
    "e = Eq(h, 0)  # Aqui, estou assumindo que você quer mostrar h(t) = 0, mas você pode alterar isso conforme necessário.\n",
    "display(e)\n",
    "\n",
    "# Calculando a derivada de h em relação a t\n",
    "dh_dt = h.diff(t)\n",
    "\n",
    "# Encontrando o valor de t para o qual dh/dt = 0 (altura máxima)\n",
    "t_max_height = solve(dh_dt)[0]\n",
    "\n",
    "print(f\"A bola atinge sua altura máxima em {t_max_height} segundos.\")"
   ]
  },
  {
   "cell_type": "code",
   "execution_count": 36,
   "metadata": {},
   "outputs": [
    {
     "data": {
      "text/latex": [
       "$\\displaystyle - 2 x^{2} + 16 x - 12 = 0$"
      ],
      "text/plain": [
       "Eq(-2*x**2 + 16*x - 12, 0)"
      ]
     },
     "metadata": {},
     "output_type": "display_data"
    },
    {
     "name": "stdout",
     "output_type": "stream",
     "text": [
      "A empresa precisa vender 4 produtos para maximizar seu lucro.\n"
     ]
    }
   ],
   "source": [
    "# Uma empresa tem um lucro descrito pela função L(x) = -2x² + 16x - 12 onde x  é o número de produtos vendidos. Quantos produtos a empresa precisa vender para maximizar seu lucro?\n",
    "\n",
    "'''\n",
    "x = -b/2a\n",
    "x = -16/(-4)\n",
    "x = 4\n",
    "\n",
    "'''\n",
    "\n",
    "\n",
    "from sympy import symbols, solve\n",
    "\n",
    "x = symbols('x')\n",
    "L = -2*x**2 + 16*x - 12\n",
    "display(Eq(L, 0))\n",
    "dL_dx = L.diff(x)\n",
    "x_max_profit = solve(dL_dx)[0]\n",
    "print(f\"A empresa precisa vender {x_max_profit} produtos para maximizar seu lucro.\")\n"
   ]
  }
 ],
 "metadata": {
  "kernelspec": {
   "display_name": "Python 3",
   "language": "python",
   "name": "python3"
  },
  "language_info": {
   "codemirror_mode": {
    "name": "ipython",
    "version": 3
   },
   "file_extension": ".py",
   "mimetype": "text/x-python",
   "name": "python",
   "nbconvert_exporter": "python",
   "pygments_lexer": "ipython3",
   "version": "3.10.12"
  }
 },
 "nbformat": 4,
 "nbformat_minor": 2
}
